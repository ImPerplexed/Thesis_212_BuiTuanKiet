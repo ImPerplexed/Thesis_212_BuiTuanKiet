{
 "cells": [
  {
   "cell_type": "markdown",
   "id": "9337506f",
   "metadata": {},
   "source": [
    "# Import library"
   ]
  },
  {
   "cell_type": "code",
   "execution_count": 7,
   "id": "899c470b",
   "metadata": {},
   "outputs": [],
   "source": [
    "import matplotlib.pyplot as plt\n",
    "import numpy as np\n",
    "import emd\n",
    "import pandas as pd\n",
    "\n",
    "from sklearn.preprocessing import scale\n",
    "from sklearn.svm import SVR\n",
    "from sklearn.model_selection import GridSearchCV"
   ]
  },
  {
   "cell_type": "markdown",
   "id": "100007d8",
   "metadata": {},
   "source": [
    "# Import data"
   ]
  },
  {
   "cell_type": "code",
   "execution_count": 8,
   "id": "3c0a3edf",
   "metadata": {},
   "outputs": [
    {
     "data": {
      "image/png": "[encoded data removed]",
      "text/plain": [
       "<Figure size 432x288 with 1 Axes>"
      ]
     },
     "metadata": {
      "needs_background": "light"
     },
     "output_type": "display_data"
    }
   ],
   "source": [
    "df = pd.read_csv('Steel_industry_data.csv')\n",
    "load = df['Usage_kWh']\n",
    "time = np.array(df['date'])\n",
    "\n",
    "load.plot()\n",
    "plt.show()\n"
   ]
  },
  {
   "cell_type": "markdown",
   "id": "398cf901",
   "metadata": {},
   "source": [
    "# Clean data and some explanatory data here"
   ]
  },
  {
   "cell_type": "code",
   "execution_count": 68,
   "id": "b623d674",
   "metadata": {},
   "outputs": [
    {
     "data": {
      "text/html": [
       "<div>\n",
       "<style scoped>\n",
       "    .dataframe tbody tr th:only-of-type {\n",
       "        vertical-align: middle;\n",
       "    }\n",
       "\n",
       "    .dataframe tbody tr th {\n",
       "        vertical-align: top;\n",
       "    }\n",
       "\n",
       "    .dataframe thead th {\n",
       "        text-align: right;\n",
       "    }\n",
       "</style>\n",
       "<table border=\"1\" class=\"dataframe\">\n",
       "  <thead>\n",
       "    <tr style=\"text-align: right;\">\n",
       "      <th></th>\n",
       "      <th>date</th>\n",
       "      <th>Usage_kWh</th>\n",
       "      <th>Lagging_Current_Reactive.Power_kVarh</th>\n",
       "      <th>Leading_Current_Reactive_Power_kVarh</th>\n",
       "      <th>CO2(tCO2)</th>\n",
       "      <th>Lagging_Current_Power_Factor</th>\n",
       "      <th>Leading_Current_Power_Factor</th>\n",
       "      <th>NSM</th>\n",
       "      <th>WeekStatus</th>\n",
       "      <th>Day_of_week</th>\n",
       "      <th>Load_Type</th>\n",
       "    </tr>\n",
       "  </thead>\n",
       "  <tbody>\n",
       "    <tr>\n",
       "      <th>0</th>\n",
       "      <td>01/01/2018 00:15</td>\n",
       "      <td>3.17</td>\n",
       "      <td>2.95</td>\n",
       "      <td>0.0</td>\n",
       "      <td>0.0</td>\n",
       "      <td>73.21</td>\n",
       "      <td>100.0</td>\n",
       "      <td>900</td>\n",
       "      <td>Weekday</td>\n",
       "      <td>Monday</td>\n",
       "      <td>Light_Load</td>\n",
       "    </tr>\n",
       "    <tr>\n",
       "      <th>1</th>\n",
       "      <td>01/01/2018 00:30</td>\n",
       "      <td>4.00</td>\n",
       "      <td>4.46</td>\n",
       "      <td>0.0</td>\n",
       "      <td>0.0</td>\n",
       "      <td>66.77</td>\n",
       "      <td>100.0</td>\n",
       "      <td>1800</td>\n",
       "      <td>Weekday</td>\n",
       "      <td>Monday</td>\n",
       "      <td>Light_Load</td>\n",
       "    </tr>\n",
       "    <tr>\n",
       "      <th>2</th>\n",
       "      <td>01/01/2018 00:45</td>\n",
       "      <td>3.24</td>\n",
       "      <td>3.28</td>\n",
       "      <td>0.0</td>\n",
       "      <td>0.0</td>\n",
       "      <td>70.28</td>\n",
       "      <td>100.0</td>\n",
       "      <td>2700</td>\n",
       "      <td>Weekday</td>\n",
       "      <td>Monday</td>\n",
       "      <td>Light_Load</td>\n",
       "    </tr>\n",
       "    <tr>\n",
       "      <th>3</th>\n",
       "      <td>01/01/2018 01:00</td>\n",
       "      <td>3.31</td>\n",
       "      <td>3.56</td>\n",
       "      <td>0.0</td>\n",
       "      <td>0.0</td>\n",
       "      <td>68.09</td>\n",
       "      <td>100.0</td>\n",
       "      <td>3600</td>\n",
       "      <td>Weekday</td>\n",
       "      <td>Monday</td>\n",
       "      <td>Light_Load</td>\n",
       "    </tr>\n",
       "    <tr>\n",
       "      <th>4</th>\n",
       "      <td>01/01/2018 01:15</td>\n",
       "      <td>3.82</td>\n",
       "      <td>4.50</td>\n",
       "      <td>0.0</td>\n",
       "      <td>0.0</td>\n",
       "      <td>64.72</td>\n",
       "      <td>100.0</td>\n",
       "      <td>4500</td>\n",
       "      <td>Weekday</td>\n",
       "      <td>Monday</td>\n",
       "      <td>Light_Load</td>\n",
       "    </tr>\n",
       "  </tbody>\n",
       "</table>\n",
       "</div>"
      ],
      "text/plain": [
       "               date  Usage_kWh  Lagging_Current_Reactive.Power_kVarh  \\\n",
       "0  01/01/2018 00:15       3.17                                  2.95   \n",
       "1  01/01/2018 00:30       4.00                                  4.46   \n",
       "2  01/01/2018 00:45       3.24                                  3.28   \n",
       "3  01/01/2018 01:00       3.31                                  3.56   \n",
       "4  01/01/2018 01:15       3.82                                  4.50   \n",
       "\n",
       "   Leading_Current_Reactive_Power_kVarh  CO2(tCO2)  \\\n",
       "0                                   0.0        0.0   \n",
       "1                                   0.0        0.0   \n",
       "2                                   0.0        0.0   \n",
       "3                                   0.0        0.0   \n",
       "4                                   0.0        0.0   \n",
       "\n",
       "   Lagging_Current_Power_Factor  Leading_Current_Power_Factor   NSM  \\\n",
       "0                         73.21                         100.0   900   \n",
       "1                         66.77                         100.0  1800   \n",
       "2                         70.28                         100.0  2700   \n",
       "3                         68.09                         100.0  3600   \n",
       "4                         64.72                         100.0  4500   \n",
       "\n",
       "  WeekStatus Day_of_week   Load_Type  \n",
       "0    Weekday      Monday  Light_Load  \n",
       "1    Weekday      Monday  Light_Load  \n",
       "2    Weekday      Monday  Light_Load  \n",
       "3    Weekday      Monday  Light_Load  \n",
       "4    Weekday      Monday  Light_Load  "
      ]
     },
     "metadata": {},
     "output_type": "display_data"
    },
    {
     "data": {
      "text/html": [
       "<div>\n",
       "<style scoped>\n",
       "    .dataframe tbody tr th:only-of-type {\n",
       "        vertical-align: middle;\n",
       "    }\n",
       "\n",
       "    .dataframe tbody tr th {\n",
       "        vertical-align: top;\n",
       "    }\n",
       "\n",
       "    .dataframe thead th {\n",
       "        text-align: right;\n",
       "    }\n",
       "</style>\n",
       "<table border=\"1\" class=\"dataframe\">\n",
       "  <thead>\n",
       "    <tr style=\"text-align: right;\">\n",
       "      <th></th>\n",
       "      <th>Lagging_Current_Reactive.Power_kVarh</th>\n",
       "      <th>Leading_Current_Reactive_Power_kVarh</th>\n",
       "      <th>CO2(tCO2)</th>\n",
       "      <th>Lagging_Current_Power_Factor</th>\n",
       "      <th>Leading_Current_Power_Factor</th>\n",
       "      <th>NSM</th>\n",
       "    </tr>\n",
       "  </thead>\n",
       "  <tbody>\n",
       "    <tr>\n",
       "      <th>0</th>\n",
       "      <td>2.95</td>\n",
       "      <td>0.00</td>\n",
       "      <td>0.0</td>\n",
       "      <td>73.21</td>\n",
       "      <td>100.00</td>\n",
       "      <td>900</td>\n",
       "    </tr>\n",
       "    <tr>\n",
       "      <th>1</th>\n",
       "      <td>4.46</td>\n",
       "      <td>0.00</td>\n",
       "      <td>0.0</td>\n",
       "      <td>66.77</td>\n",
       "      <td>100.00</td>\n",
       "      <td>1800</td>\n",
       "    </tr>\n",
       "    <tr>\n",
       "      <th>2</th>\n",
       "      <td>3.28</td>\n",
       "      <td>0.00</td>\n",
       "      <td>0.0</td>\n",
       "      <td>70.28</td>\n",
       "      <td>100.00</td>\n",
       "      <td>2700</td>\n",
       "    </tr>\n",
       "    <tr>\n",
       "      <th>3</th>\n",
       "      <td>3.56</td>\n",
       "      <td>0.00</td>\n",
       "      <td>0.0</td>\n",
       "      <td>68.09</td>\n",
       "      <td>100.00</td>\n",
       "      <td>3600</td>\n",
       "    </tr>\n",
       "    <tr>\n",
       "      <th>4</th>\n",
       "      <td>4.50</td>\n",
       "      <td>0.00</td>\n",
       "      <td>0.0</td>\n",
       "      <td>64.72</td>\n",
       "      <td>100.00</td>\n",
       "      <td>4500</td>\n",
       "    </tr>\n",
       "    <tr>\n",
       "      <th>...</th>\n",
       "      <td>...</td>\n",
       "      <td>...</td>\n",
       "      <td>...</td>\n",
       "      <td>...</td>\n",
       "      <td>...</td>\n",
       "      <td>...</td>\n",
       "    </tr>\n",
       "    <tr>\n",
       "      <th>35035</th>\n",
       "      <td>4.86</td>\n",
       "      <td>0.00</td>\n",
       "      <td>0.0</td>\n",
       "      <td>62.10</td>\n",
       "      <td>100.00</td>\n",
       "      <td>82800</td>\n",
       "    </tr>\n",
       "    <tr>\n",
       "      <th>35036</th>\n",
       "      <td>3.74</td>\n",
       "      <td>0.00</td>\n",
       "      <td>0.0</td>\n",
       "      <td>70.71</td>\n",
       "      <td>100.00</td>\n",
       "      <td>83700</td>\n",
       "    </tr>\n",
       "    <tr>\n",
       "      <th>35037</th>\n",
       "      <td>3.17</td>\n",
       "      <td>0.07</td>\n",
       "      <td>0.0</td>\n",
       "      <td>76.62</td>\n",
       "      <td>99.98</td>\n",
       "      <td>84600</td>\n",
       "    </tr>\n",
       "    <tr>\n",
       "      <th>35038</th>\n",
       "      <td>3.06</td>\n",
       "      <td>0.11</td>\n",
       "      <td>0.0</td>\n",
       "      <td>77.72</td>\n",
       "      <td>99.96</td>\n",
       "      <td>85500</td>\n",
       "    </tr>\n",
       "    <tr>\n",
       "      <th>35039</th>\n",
       "      <td>3.02</td>\n",
       "      <td>0.07</td>\n",
       "      <td>0.0</td>\n",
       "      <td>77.22</td>\n",
       "      <td>99.98</td>\n",
       "      <td>0</td>\n",
       "    </tr>\n",
       "  </tbody>\n",
       "</table>\n",
       "<p>35040 rows × 6 columns</p>\n",
       "</div>"
      ],
      "text/plain": [
       "       Lagging_Current_Reactive.Power_kVarh  \\\n",
       "0                                      2.95   \n",
       "1                                      4.46   \n",
       "2                                      3.28   \n",
       "3                                      3.56   \n",
       "4                                      4.50   \n",
       "...                                     ...   \n",
       "35035                                  4.86   \n",
       "35036                                  3.74   \n",
       "35037                                  3.17   \n",
       "35038                                  3.06   \n",
       "35039                                  3.02   \n",
       "\n",
       "       Leading_Current_Reactive_Power_kVarh  CO2(tCO2)  \\\n",
       "0                                      0.00        0.0   \n",
       "1                                      0.00        0.0   \n",
       "2                                      0.00        0.0   \n",
       "3                                      0.00        0.0   \n",
       "4                                      0.00        0.0   \n",
       "...                                     ...        ...   \n",
       "35035                                  0.00        0.0   \n",
       "35036                                  0.00        0.0   \n",
       "35037                                  0.07        0.0   \n",
       "35038                                  0.11        0.0   \n",
       "35039                                  0.07        0.0   \n",
       "\n",
       "       Lagging_Current_Power_Factor  Leading_Current_Power_Factor    NSM  \n",
       "0                             73.21                        100.00    900  \n",
       "1                             66.77                        100.00   1800  \n",
       "2                             70.28                        100.00   2700  \n",
       "3                             68.09                        100.00   3600  \n",
       "4                             64.72                        100.00   4500  \n",
       "...                             ...                           ...    ...  \n",
       "35035                         62.10                        100.00  82800  \n",
       "35036                         70.71                        100.00  83700  \n",
       "35037                         76.62                         99.98  84600  \n",
       "35038                         77.72                         99.96  85500  \n",
       "35039                         77.22                         99.98      0  \n",
       "\n",
       "[35040 rows x 6 columns]"
      ]
     },
     "metadata": {},
     "output_type": "display_data"
    }
   ],
   "source": [
    "display(df.head())\n",
    "other_vars = df.drop(columns = ['date', 'WeekStatus', 'Day_of_week', 'Load_Type', 'Usage_kWh'])\n",
    "display(other_vars)"
   ]
  },
  {
   "cell_type": "markdown",
   "id": "702387fe",
   "metadata": {},
   "source": [
    "# Split data 70 30"
   ]
  },
  {
   "cell_type": "code",
   "execution_count": 30,
   "id": "10166fee",
   "metadata": {},
   "outputs": [
    {
     "data": {
      "image/png": "[encoded data removed]",
      "text/plain": [
       "<Figure size 432x288 with 1 Axes>"
      ]
     },
     "metadata": {
      "needs_background": "light"
     },
     "output_type": "display_data"
    }
   ],
   "source": [
    "train = load[:int(len(load)*0.7)]\n",
    "test = load[int(len(load)*0.7):]\n",
    "plt.plot(train)\n",
    "plt.show()"
   ]
  },
  {
   "cell_type": "markdown",
   "id": "39b110fb",
   "metadata": {},
   "source": [
    "# ARIMA"
   ]
  },
  {
   "cell_type": "code",
   "execution_count": 31,
   "id": "830ac8b0",
   "metadata": {},
   "outputs": [
    {
     "name": "stdout",
     "output_type": "stream",
     "text": [
      "                               SARIMAX Results                                \n",
      "==============================================================================\n",
      "Dep. Variable:              Usage_kWh   No. Observations:                24528\n",
      "Model:                 ARIMA(2, 1, 2)   Log Likelihood             -100053.819\n",
      "Date:                Thu, 12 May 2022   AIC                         200117.638\n",
      "Time:                        21:52:46   BIC                         200158.176\n",
      "Sample:                             0   HQIC                        200130.771\n",
      "                              - 24528                                         \n",
      "Covariance Type:                  opg                                         \n",
      "==============================================================================\n",
      "                 coef    std err          z      P>|z|      [0.025      0.975]\n",
      "------------------------------------------------------------------------------\n",
      "ar.L1          0.0178      0.027      0.666      0.506      -0.035       0.070\n",
      "ar.L2          0.8043      0.024     32.838      0.000       0.756       0.852\n",
      "ma.L1         -0.0967      0.025     -3.818      0.000      -0.146      -0.047\n",
      "ma.L2         -0.9023      0.025    -35.624      0.000      -0.952      -0.853\n",
      "sigma2       204.5074      0.867    235.929      0.000     202.808     206.206\n",
      "===================================================================================\n",
      "Ljung-Box (L1) (Q):                  38.36   Jarque-Bera (JB):             89414.98\n",
      "Prob(Q):                              0.00   Prob(JB):                         0.00\n",
      "Heteroskedasticity (H):               0.61   Skew:                             0.30\n",
      "Prob(H) (two-sided):                  0.00   Kurtosis:                        12.34\n",
      "===================================================================================\n",
      "\n",
      "Warnings:\n",
      "[1] Covariance matrix calculated using the outer product of gradients (complex-step).\n"
     ]
    }
   ],
   "source": [
    "from statsmodels.tsa.arima.model import ARIMA\n",
    " \n",
    "# Build Model\n",
    "arima = ARIMA(train, order=(2, 1, 2))  \n",
    "arima_fit = arima.fit()\n",
    "print(arima_fit.summary())"
   ]
  },
  {
   "cell_type": "code",
   "execution_count": 78,
   "id": "b06dbc83",
   "metadata": {},
   "outputs": [
    {
     "data": {
      "image/png": "[encoded data removed]",
      "text/plain": [
       "<Figure size 1200x500 with 1 Axes>"
      ]
     },
     "metadata": {
      "needs_background": "light"
     },
     "output_type": "display_data"
    },
    {
     "name": "stdout",
     "output_type": "stream",
     "text": [
      "0         0.000000\n",
      "1         3.169977\n",
      "2         3.972313\n",
      "3         3.219110\n",
      "4         3.325429\n",
      "           ...    \n",
      "24523    48.515240\n",
      "24524    51.776460\n",
      "24525    47.271580\n",
      "24526    49.335391\n",
      "24527    53.032185\n",
      "Name: predicted_mean, Length: 24528, dtype: float64\n"
     ]
    }
   ],
   "source": [
    "# plotting\n",
    "fc = arima_fit.forecast(len(test)) \n",
    "\n",
    "# Make as pandas series\n",
    "fc_series = pd.Series(fc, index = [x for x in range(len(train),len(train)+len(test))])\n",
    "test_series = pd.Series(test, index = [x for x in range(len(train),len(train)+len(test))])\n",
    "# Plot\n",
    "plt.figure(figsize=(12,5), dpi=100)\n",
    "plt.plot(train, label='training')\n",
    "plt.plot(test_series, label='actual')\n",
    "plt.plot(fc_series, label='forecast')\n",
    "plt.plot(arima_fit.predict(), label = 'fit')\n",
    "plt.title('Forecast vs Actuals')\n",
    "plt.legend(loc='upper left', fontsize=8)\n",
    "plt.show()\n",
    "print(arima_fit.predict())"
   ]
  },
  {
   "cell_type": "markdown",
   "id": "044f1c64",
   "metadata": {},
   "source": [
    "# Holt-Winter"
   ]
  },
  {
   "cell_type": "code",
   "execution_count": 73,
   "id": "5385f05c",
   "metadata": {},
   "outputs": [
    {
     "name": "stderr",
     "output_type": "stream",
     "text": [
      "C:\\Users\\Dell\\anaconda3\\lib\\site-packages\\statsmodels\\tsa\\holtwinters\\model.py:427: FutureWarning: After 0.13 initialization must be handled at model creation\n",
      "  warnings.warn(\n"
     ]
    },
    {
     "name": "stdout",
     "output_type": "stream",
     "text": [
      "                       ExponentialSmoothing Model Results                       \n",
      "================================================================================\n",
      "Dep. Variable:                Usage_kWh   No. Observations:                24528\n",
      "Model:             ExponentialSmoothing   SSE                        5080841.799\n",
      "Optimized:                         True   AIC                         130850.050\n",
      "Trend:                         Additive   BIC                         130979.771\n",
      "Seasonal:                      Additive   AICC                        130850.078\n",
      "Seasonal Periods:                    12   Date:                 Thu, 12 May 2022\n",
      "Box-Cox:                          False   Time:                         22:21:49\n",
      "Box-Cox Coeff.:                    None                                         \n",
      "=================================================================================\n",
      "                          coeff                 code              optimized      \n",
      "---------------------------------------------------------------------------------\n",
      "smoothing_level               0.9244344                alpha                 True\n",
      "smoothing_trend               0.0005677                 beta                 True\n",
      "smoothing_seasonal            0.0107062                gamma                 True\n",
      "initial_level                 24.022984                  l.0                 True\n",
      "initial_trend                 0.4476380                  b.0                 True\n",
      "initial_seasons.0            -26.997852                  s.0                 True\n",
      "initial_seasons.1            -26.906430                  s.1                 True\n",
      "initial_seasons.2            -30.140380                  s.2                 True\n",
      "initial_seasons.3            -31.490202                  s.3                 True\n",
      "initial_seasons.4            -25.828796                  s.4                 True\n",
      "initial_seasons.5            -21.981621                  s.5                 True\n",
      "initial_seasons.6            -17.659545                  s.6                 True\n",
      "initial_seasons.7            -23.749112                  s.7                 True\n",
      "initial_seasons.8            -13.294203                  s.8                 True\n",
      "initial_seasons.9            -4.7529283                  s.9                 True\n",
      "initial_seasons.10           -11.464449                 s.10                 True\n",
      "initial_seasons.11           -10.937473                 s.11                 True\n",
      "---------------------------------------------------------------------------------\n"
     ]
    }
   ],
   "source": [
    "from statsmodels.tsa.holtwinters import ExponentialSmoothing\n",
    "holt_winter = ExponentialSmoothing(train, seasonal_periods=12, trend='add', seasonal='add').fit()\n",
    "print(holt_winter.summary())"
   ]
  },
  {
   "cell_type": "code",
   "execution_count": 80,
   "id": "0e2e8b28",
   "metadata": {},
   "outputs": [
    {
     "data": {
      "image/png": "[encoded data removed]",
      "text/plain": [
       "<Figure size 1200x500 with 1 Axes>"
      ]
     },
     "metadata": {
      "needs_background": "light"
     },
     "output_type": "display_data"
    },
    {
     "name": "stdout",
     "output_type": "stream",
     "text": [
      "24528    50.256687\n",
      "dtype: float64\n"
     ]
    }
   ],
   "source": [
    "hw = holt_winter.forecast(len(test)) \n",
    "\n",
    "# Make as pandas series\n",
    "hw_series = pd.Series(hw, index = [x for x in range(len(train),len(train)+len(test))])\n",
    "test_series = pd.Series(test, index = [x for x in range(len(train),len(train)+len(test))])\n",
    "# Plot\n",
    "plt.figure(figsize=(12,5), dpi=100)\n",
    "plt.plot(train, label='training')\n",
    "plt.plot(test_series, label='actual')\n",
    "plt.plot(hw_series, label='forecast')\n",
    "plt.plot(holt_winter.predict(), label = 'fit')\n",
    "plt.title('Forecast vs Actuals')\n",
    "plt.legend(loc='upper left', fontsize=8)\n",
    "plt.show()\n",
    "print(holt_winter.predict(len(train)))"
   ]
  },
  {
   "cell_type": "markdown",
   "id": "b001e892",
   "metadata": {},
   "source": [
    "# Simple Moving Average"
   ]
  },
  {
   "cell_type": "code",
   "execution_count": null,
   "id": "f53286a0",
   "metadata": {},
   "outputs": [],
   "source": [
    "#6 unit\n",
    "sma = train.rolling(window = 6).mean()\n",
    "sma.plot()\n",
    "print(sma)"
   ]
  },
  {
   "cell_type": "markdown",
   "id": "cbad3c70",
   "metadata": {},
   "source": [
    "# Empirical M Decomposition "
   ]
  },
  {
   "cell_type": "code",
   "execution_count": null,
   "id": "276d39c4",
   "metadata": {},
   "outputs": [],
   "source": [
    "import emd\n",
    "\n",
    "imf = emd.sift.sift(np.array(train), imf_opts={'sd_thresh': 0.1})\n",
    "emd.plotting.plot_imfs(imf, cmap=True, scale_y=True)"
   ]
  },
  {
   "cell_type": "markdown",
   "id": "d81c3074",
   "metadata": {},
   "source": [
    "# SVR MODELS"
   ]
  },
  {
   "cell_type": "code",
   "execution_count": 72,
   "id": "95638869",
   "metadata": {},
   "outputs": [
    {
     "data": {
      "text/html": [
       "<div>\n",
       "<style scoped>\n",
       "    .dataframe tbody tr th:only-of-type {\n",
       "        vertical-align: middle;\n",
       "    }\n",
       "\n",
       "    .dataframe tbody tr th {\n",
       "        vertical-align: top;\n",
       "    }\n",
       "\n",
       "    .dataframe thead th {\n",
       "        text-align: right;\n",
       "    }\n",
       "</style>\n",
       "<table border=\"1\" class=\"dataframe\">\n",
       "  <thead>\n",
       "    <tr style=\"text-align: right;\">\n",
       "      <th></th>\n",
       "      <th>Usage_kWh</th>\n",
       "      <th>lag1</th>\n",
       "      <th>lag2</th>\n",
       "      <th>lag3</th>\n",
       "      <th>lag4</th>\n",
       "      <th>lag5</th>\n",
       "      <th>lag6</th>\n",
       "      <th>lag7</th>\n",
       "      <th>lag8</th>\n",
       "      <th>lag9</th>\n",
       "      <th>lag10</th>\n",
       "      <th>lag11</th>\n",
       "    </tr>\n",
       "  </thead>\n",
       "  <tbody>\n",
       "    <tr>\n",
       "      <th>0</th>\n",
       "      <td>3.17</td>\n",
       "      <td>0.00</td>\n",
       "      <td>0.00</td>\n",
       "      <td>0.00</td>\n",
       "      <td>0.00</td>\n",
       "      <td>0.00</td>\n",
       "      <td>0.00</td>\n",
       "      <td>0.00</td>\n",
       "      <td>0.00</td>\n",
       "      <td>0.00</td>\n",
       "      <td>0.00</td>\n",
       "      <td>0.00</td>\n",
       "    </tr>\n",
       "    <tr>\n",
       "      <th>1</th>\n",
       "      <td>4.00</td>\n",
       "      <td>3.17</td>\n",
       "      <td>0.00</td>\n",
       "      <td>0.00</td>\n",
       "      <td>0.00</td>\n",
       "      <td>0.00</td>\n",
       "      <td>0.00</td>\n",
       "      <td>0.00</td>\n",
       "      <td>0.00</td>\n",
       "      <td>0.00</td>\n",
       "      <td>0.00</td>\n",
       "      <td>0.00</td>\n",
       "    </tr>\n",
       "    <tr>\n",
       "      <th>2</th>\n",
       "      <td>3.24</td>\n",
       "      <td>4.00</td>\n",
       "      <td>3.17</td>\n",
       "      <td>0.00</td>\n",
       "      <td>0.00</td>\n",
       "      <td>0.00</td>\n",
       "      <td>0.00</td>\n",
       "      <td>0.00</td>\n",
       "      <td>0.00</td>\n",
       "      <td>0.00</td>\n",
       "      <td>0.00</td>\n",
       "      <td>0.00</td>\n",
       "    </tr>\n",
       "    <tr>\n",
       "      <th>3</th>\n",
       "      <td>3.31</td>\n",
       "      <td>3.24</td>\n",
       "      <td>4.00</td>\n",
       "      <td>3.17</td>\n",
       "      <td>0.00</td>\n",
       "      <td>0.00</td>\n",
       "      <td>0.00</td>\n",
       "      <td>0.00</td>\n",
       "      <td>0.00</td>\n",
       "      <td>0.00</td>\n",
       "      <td>0.00</td>\n",
       "      <td>0.00</td>\n",
       "    </tr>\n",
       "    <tr>\n",
       "      <th>4</th>\n",
       "      <td>3.82</td>\n",
       "      <td>3.31</td>\n",
       "      <td>3.24</td>\n",
       "      <td>4.00</td>\n",
       "      <td>3.17</td>\n",
       "      <td>0.00</td>\n",
       "      <td>0.00</td>\n",
       "      <td>0.00</td>\n",
       "      <td>0.00</td>\n",
       "      <td>0.00</td>\n",
       "      <td>0.00</td>\n",
       "      <td>0.00</td>\n",
       "    </tr>\n",
       "    <tr>\n",
       "      <th>...</th>\n",
       "      <td>...</td>\n",
       "      <td>...</td>\n",
       "      <td>...</td>\n",
       "      <td>...</td>\n",
       "      <td>...</td>\n",
       "      <td>...</td>\n",
       "      <td>...</td>\n",
       "      <td>...</td>\n",
       "      <td>...</td>\n",
       "      <td>...</td>\n",
       "      <td>...</td>\n",
       "      <td>...</td>\n",
       "    </tr>\n",
       "    <tr>\n",
       "      <th>24523</th>\n",
       "      <td>53.60</td>\n",
       "      <td>51.80</td>\n",
       "      <td>78.44</td>\n",
       "      <td>123.55</td>\n",
       "      <td>116.64</td>\n",
       "      <td>59.51</td>\n",
       "      <td>105.52</td>\n",
       "      <td>108.72</td>\n",
       "      <td>90.79</td>\n",
       "      <td>47.95</td>\n",
       "      <td>52.78</td>\n",
       "      <td>35.75</td>\n",
       "    </tr>\n",
       "    <tr>\n",
       "      <th>24524</th>\n",
       "      <td>50.33</td>\n",
       "      <td>53.60</td>\n",
       "      <td>51.80</td>\n",
       "      <td>78.44</td>\n",
       "      <td>123.55</td>\n",
       "      <td>116.64</td>\n",
       "      <td>59.51</td>\n",
       "      <td>105.52</td>\n",
       "      <td>108.72</td>\n",
       "      <td>90.79</td>\n",
       "      <td>47.95</td>\n",
       "      <td>52.78</td>\n",
       "    </tr>\n",
       "    <tr>\n",
       "      <th>24525</th>\n",
       "      <td>51.01</td>\n",
       "      <td>50.33</td>\n",
       "      <td>53.60</td>\n",
       "      <td>51.80</td>\n",
       "      <td>78.44</td>\n",
       "      <td>123.55</td>\n",
       "      <td>116.64</td>\n",
       "      <td>59.51</td>\n",
       "      <td>105.52</td>\n",
       "      <td>108.72</td>\n",
       "      <td>90.79</td>\n",
       "      <td>47.95</td>\n",
       "    </tr>\n",
       "    <tr>\n",
       "      <th>24526</th>\n",
       "      <td>56.45</td>\n",
       "      <td>51.01</td>\n",
       "      <td>50.33</td>\n",
       "      <td>53.60</td>\n",
       "      <td>51.80</td>\n",
       "      <td>78.44</td>\n",
       "      <td>123.55</td>\n",
       "      <td>116.64</td>\n",
       "      <td>59.51</td>\n",
       "      <td>105.52</td>\n",
       "      <td>108.72</td>\n",
       "      <td>90.79</td>\n",
       "    </tr>\n",
       "    <tr>\n",
       "      <th>24527</th>\n",
       "      <td>56.09</td>\n",
       "      <td>56.45</td>\n",
       "      <td>51.01</td>\n",
       "      <td>50.33</td>\n",
       "      <td>53.60</td>\n",
       "      <td>51.80</td>\n",
       "      <td>78.44</td>\n",
       "      <td>123.55</td>\n",
       "      <td>116.64</td>\n",
       "      <td>59.51</td>\n",
       "      <td>105.52</td>\n",
       "      <td>108.72</td>\n",
       "    </tr>\n",
       "  </tbody>\n",
       "</table>\n",
       "<p>24528 rows × 12 columns</p>\n",
       "</div>"
      ],
      "text/plain": [
       "       Usage_kWh   lag1   lag2    lag3    lag4    lag5    lag6    lag7  \\\n",
       "0           3.17   0.00   0.00    0.00    0.00    0.00    0.00    0.00   \n",
       "1           4.00   3.17   0.00    0.00    0.00    0.00    0.00    0.00   \n",
       "2           3.24   4.00   3.17    0.00    0.00    0.00    0.00    0.00   \n",
       "3           3.31   3.24   4.00    3.17    0.00    0.00    0.00    0.00   \n",
       "4           3.82   3.31   3.24    4.00    3.17    0.00    0.00    0.00   \n",
       "...          ...    ...    ...     ...     ...     ...     ...     ...   \n",
       "24523      53.60  51.80  78.44  123.55  116.64   59.51  105.52  108.72   \n",
       "24524      50.33  53.60  51.80   78.44  123.55  116.64   59.51  105.52   \n",
       "24525      51.01  50.33  53.60   51.80   78.44  123.55  116.64   59.51   \n",
       "24526      56.45  51.01  50.33   53.60   51.80   78.44  123.55  116.64   \n",
       "24527      56.09  56.45  51.01   50.33   53.60   51.80   78.44  123.55   \n",
       "\n",
       "         lag8    lag9   lag10   lag11  \n",
       "0        0.00    0.00    0.00    0.00  \n",
       "1        0.00    0.00    0.00    0.00  \n",
       "2        0.00    0.00    0.00    0.00  \n",
       "3        0.00    0.00    0.00    0.00  \n",
       "4        0.00    0.00    0.00    0.00  \n",
       "...       ...     ...     ...     ...  \n",
       "24523   90.79   47.95   52.78   35.75  \n",
       "24524  108.72   90.79   47.95   52.78  \n",
       "24525  105.52  108.72   90.79   47.95  \n",
       "24526   59.51  105.52  108.72   90.79  \n",
       "24527  116.64   59.51  105.52  108.72  \n",
       "\n",
       "[24528 rows x 12 columns]"
      ]
     },
     "metadata": {},
     "output_type": "display_data"
    },
    {
     "data": {
      "text/html": [
       "<div>\n",
       "<style scoped>\n",
       "    .dataframe tbody tr th:only-of-type {\n",
       "        vertical-align: middle;\n",
       "    }\n",
       "\n",
       "    .dataframe tbody tr th {\n",
       "        vertical-align: top;\n",
       "    }\n",
       "\n",
       "    .dataframe thead th {\n",
       "        text-align: right;\n",
       "    }\n",
       "</style>\n",
       "<table border=\"1\" class=\"dataframe\">\n",
       "  <thead>\n",
       "    <tr style=\"text-align: right;\">\n",
       "      <th></th>\n",
       "      <th>Usage_kWh</th>\n",
       "      <th>lag1</th>\n",
       "      <th>lag2</th>\n",
       "      <th>lag3</th>\n",
       "      <th>lag4</th>\n",
       "      <th>lag5</th>\n",
       "      <th>lag6</th>\n",
       "      <th>lag7</th>\n",
       "      <th>lag8</th>\n",
       "      <th>lag9</th>\n",
       "      <th>lag10</th>\n",
       "      <th>lag11</th>\n",
       "    </tr>\n",
       "  </thead>\n",
       "  <tbody>\n",
       "    <tr>\n",
       "      <th>24528</th>\n",
       "      <td>7.31</td>\n",
       "      <td>0.00</td>\n",
       "      <td>0.00</td>\n",
       "      <td>0.00</td>\n",
       "      <td>0.00</td>\n",
       "      <td>0.00</td>\n",
       "      <td>0.00</td>\n",
       "      <td>0.00</td>\n",
       "      <td>0.00</td>\n",
       "      <td>0.00</td>\n",
       "      <td>0.00</td>\n",
       "      <td>0.00</td>\n",
       "    </tr>\n",
       "    <tr>\n",
       "      <th>24529</th>\n",
       "      <td>4.43</td>\n",
       "      <td>7.31</td>\n",
       "      <td>0.00</td>\n",
       "      <td>0.00</td>\n",
       "      <td>0.00</td>\n",
       "      <td>0.00</td>\n",
       "      <td>0.00</td>\n",
       "      <td>0.00</td>\n",
       "      <td>0.00</td>\n",
       "      <td>0.00</td>\n",
       "      <td>0.00</td>\n",
       "      <td>0.00</td>\n",
       "    </tr>\n",
       "    <tr>\n",
       "      <th>24530</th>\n",
       "      <td>4.50</td>\n",
       "      <td>4.43</td>\n",
       "      <td>7.31</td>\n",
       "      <td>0.00</td>\n",
       "      <td>0.00</td>\n",
       "      <td>0.00</td>\n",
       "      <td>0.00</td>\n",
       "      <td>0.00</td>\n",
       "      <td>0.00</td>\n",
       "      <td>0.00</td>\n",
       "      <td>0.00</td>\n",
       "      <td>0.00</td>\n",
       "    </tr>\n",
       "    <tr>\n",
       "      <th>24531</th>\n",
       "      <td>5.08</td>\n",
       "      <td>4.50</td>\n",
       "      <td>4.43</td>\n",
       "      <td>7.31</td>\n",
       "      <td>0.00</td>\n",
       "      <td>0.00</td>\n",
       "      <td>0.00</td>\n",
       "      <td>0.00</td>\n",
       "      <td>0.00</td>\n",
       "      <td>0.00</td>\n",
       "      <td>0.00</td>\n",
       "      <td>0.00</td>\n",
       "    </tr>\n",
       "    <tr>\n",
       "      <th>24532</th>\n",
       "      <td>40.25</td>\n",
       "      <td>5.08</td>\n",
       "      <td>4.50</td>\n",
       "      <td>4.43</td>\n",
       "      <td>7.31</td>\n",
       "      <td>0.00</td>\n",
       "      <td>0.00</td>\n",
       "      <td>0.00</td>\n",
       "      <td>0.00</td>\n",
       "      <td>0.00</td>\n",
       "      <td>0.00</td>\n",
       "      <td>0.00</td>\n",
       "    </tr>\n",
       "    <tr>\n",
       "      <th>...</th>\n",
       "      <td>...</td>\n",
       "      <td>...</td>\n",
       "      <td>...</td>\n",
       "      <td>...</td>\n",
       "      <td>...</td>\n",
       "      <td>...</td>\n",
       "      <td>...</td>\n",
       "      <td>...</td>\n",
       "      <td>...</td>\n",
       "      <td>...</td>\n",
       "      <td>...</td>\n",
       "      <td>...</td>\n",
       "    </tr>\n",
       "    <tr>\n",
       "      <th>35035</th>\n",
       "      <td>3.85</td>\n",
       "      <td>3.82</td>\n",
       "      <td>3.67</td>\n",
       "      <td>3.24</td>\n",
       "      <td>3.42</td>\n",
       "      <td>3.42</td>\n",
       "      <td>3.49</td>\n",
       "      <td>3.42</td>\n",
       "      <td>3.42</td>\n",
       "      <td>3.42</td>\n",
       "      <td>3.38</td>\n",
       "      <td>4.18</td>\n",
       "    </tr>\n",
       "    <tr>\n",
       "      <th>35036</th>\n",
       "      <td>3.74</td>\n",
       "      <td>3.85</td>\n",
       "      <td>3.82</td>\n",
       "      <td>3.67</td>\n",
       "      <td>3.24</td>\n",
       "      <td>3.42</td>\n",
       "      <td>3.42</td>\n",
       "      <td>3.49</td>\n",
       "      <td>3.42</td>\n",
       "      <td>3.42</td>\n",
       "      <td>3.42</td>\n",
       "      <td>3.38</td>\n",
       "    </tr>\n",
       "    <tr>\n",
       "      <th>35037</th>\n",
       "      <td>3.78</td>\n",
       "      <td>3.74</td>\n",
       "      <td>3.85</td>\n",
       "      <td>3.82</td>\n",
       "      <td>3.67</td>\n",
       "      <td>3.24</td>\n",
       "      <td>3.42</td>\n",
       "      <td>3.42</td>\n",
       "      <td>3.49</td>\n",
       "      <td>3.42</td>\n",
       "      <td>3.42</td>\n",
       "      <td>3.42</td>\n",
       "    </tr>\n",
       "    <tr>\n",
       "      <th>35038</th>\n",
       "      <td>3.78</td>\n",
       "      <td>3.78</td>\n",
       "      <td>3.74</td>\n",
       "      <td>3.85</td>\n",
       "      <td>3.82</td>\n",
       "      <td>3.67</td>\n",
       "      <td>3.24</td>\n",
       "      <td>3.42</td>\n",
       "      <td>3.42</td>\n",
       "      <td>3.49</td>\n",
       "      <td>3.42</td>\n",
       "      <td>3.42</td>\n",
       "    </tr>\n",
       "    <tr>\n",
       "      <th>35039</th>\n",
       "      <td>3.67</td>\n",
       "      <td>3.78</td>\n",
       "      <td>3.78</td>\n",
       "      <td>3.74</td>\n",
       "      <td>3.85</td>\n",
       "      <td>3.82</td>\n",
       "      <td>3.67</td>\n",
       "      <td>3.24</td>\n",
       "      <td>3.42</td>\n",
       "      <td>3.42</td>\n",
       "      <td>3.49</td>\n",
       "      <td>3.42</td>\n",
       "    </tr>\n",
       "  </tbody>\n",
       "</table>\n",
       "<p>10512 rows × 12 columns</p>\n",
       "</div>"
      ],
      "text/plain": [
       "       Usage_kWh  lag1  lag2  lag3  lag4  lag5  lag6  lag7  lag8  lag9  lag10  \\\n",
       "24528       7.31  0.00  0.00  0.00  0.00  0.00  0.00  0.00  0.00  0.00   0.00   \n",
       "24529       4.43  7.31  0.00  0.00  0.00  0.00  0.00  0.00  0.00  0.00   0.00   \n",
       "24530       4.50  4.43  7.31  0.00  0.00  0.00  0.00  0.00  0.00  0.00   0.00   \n",
       "24531       5.08  4.50  4.43  7.31  0.00  0.00  0.00  0.00  0.00  0.00   0.00   \n",
       "24532      40.25  5.08  4.50  4.43  7.31  0.00  0.00  0.00  0.00  0.00   0.00   \n",
       "...          ...   ...   ...   ...   ...   ...   ...   ...   ...   ...    ...   \n",
       "35035       3.85  3.82  3.67  3.24  3.42  3.42  3.49  3.42  3.42  3.42   3.38   \n",
       "35036       3.74  3.85  3.82  3.67  3.24  3.42  3.42  3.49  3.42  3.42   3.42   \n",
       "35037       3.78  3.74  3.85  3.82  3.67  3.24  3.42  3.42  3.49  3.42   3.42   \n",
       "35038       3.78  3.78  3.74  3.85  3.82  3.67  3.24  3.42  3.42  3.49   3.42   \n",
       "35039       3.67  3.78  3.78  3.74  3.85  3.82  3.67  3.24  3.42  3.42   3.49   \n",
       "\n",
       "       lag11  \n",
       "24528   0.00  \n",
       "24529   0.00  \n",
       "24530   0.00  \n",
       "24531   0.00  \n",
       "24532   0.00  \n",
       "...      ...  \n",
       "35035   4.18  \n",
       "35036   3.38  \n",
       "35037   3.42  \n",
       "35038   3.42  \n",
       "35039   3.42  \n",
       "\n",
       "[10512 rows x 12 columns]"
      ]
     },
     "metadata": {},
     "output_type": "display_data"
    }
   ],
   "source": [
    "df_train = pd.DataFrame(train)\n",
    "df_test = pd.DataFrame(test)\n",
    "for i in range(1,12):\n",
    "    df_train[\"lag{}\".format(i)] = df_train[\"Usage_kWh\"].shift(i)\n",
    "    df_test[\"lag{}\".format(i)] = df_test[\"Usage_kWh\"].shift(i)\n",
    "df_train = df_train.fillna(0)\n",
    "df_test = df_test.fillna(0)\n",
    "display(df_train, df_test)"
   ]
  },
  {
   "cell_type": "markdown",
   "id": "07fd20be",
   "metadata": {},
   "source": [
    "## ARIMA"
   ]
  },
  {
   "cell_type": "code",
   "execution_count": 34,
   "id": "d99141e8",
   "metadata": {},
   "outputs": [],
   "source": [
    "from sklearn.svm import SVR\n"
   ]
  },
  {
   "cell_type": "code",
   "execution_count": 43,
   "id": "f0c2c5c3",
   "metadata": {},
   "outputs": [
    {
     "data": {
      "text/plain": [
       "SVR(C=0.5, gamma=0.1)"
      ]
     },
     "execution_count": 43,
     "metadata": {},
     "output_type": "execute_result"
    }
   ],
   "source": [
    "arima_SVR = SVR(kernel = 'rbf', C= 0.5, gamma= 0.1)\n",
    "arima_SVR.fit(df_train, arima_fit.resid)"
   ]
  },
  {
   "cell_type": "code",
   "execution_count": 44,
   "id": "f5d2987a",
   "metadata": {},
   "outputs": [
    {
     "data": {
      "text/plain": [
       "[<matplotlib.lines.Line2D at 0x1e3ae6e5070>]"
      ]
     },
     "execution_count": 44,
     "metadata": {},
     "output_type": "execute_result"
    },
    {
     "data": {
      "image/png": "[encoded data removed]",
      "text/plain": [
       "<Figure size 432x288 with 1 Axes>"
      ]
     },
     "metadata": {
      "needs_background": "light"
     },
     "output_type": "display_data"
    }
   ],
   "source": [
    "arima_SVR_fc = arima_SVR.predict(np.array(df_test))\n",
    "# print(arimia_SVR)\n",
    "plt.plot(arima_SVR_fc+fc)\n",
    "plt.plot(test)"
   ]
  },
  {
   "cell_type": "code",
   "execution_count": 45,
   "id": "7a592340",
   "metadata": {},
   "outputs": [
    {
     "data": {
      "text/plain": [
       "[<matplotlib.lines.Line2D at 0x1e3afb9d6d0>]"
      ]
     },
     "execution_count": 45,
     "metadata": {},
     "output_type": "execute_result"
    },
    {
     "data": {
      "image/png": "[encoded data removed]",
      "text/plain": [
       "<Figure size 432x288 with 1 Axes>"
      ]
     },
     "metadata": {
      "needs_background": "light"
     },
     "output_type": "display_data"
    }
   ],
   "source": [
    "plt.plot(arima_SVR_fc[:1000]+fc[:1000])\n",
    "plt.plot(test[:1000])"
   ]
  },
  {
   "cell_type": "code",
   "execution_count": null,
   "id": "43ec30e9",
   "metadata": {},
   "outputs": [],
   "source": [
    "param_grid = [\n",
    "    {'C': [0.5, 1, 10, 100],\n",
    "    'gamma': ['scale', 1, 0.1, 0.01, 0.0001, 0.001],\n",
    "    'kernel': ['rbf']},\n",
    "]\n",
    "\n",
    "optimal_params = GridSearchCV(\n",
    "    SVR(),\n",
    "    param_grid,\n",
    "    cv = 5,\n",
    "    scoring = 'accuracy',\n",
    "    verbose = 0)\n",
    "optimal_params.fit(df_train, arima_fit.resid)\n",
    "print(optimal_params.best_params_)"
   ]
  },
  {
   "cell_type": "markdown",
   "id": "c47529f7",
   "metadata": {},
   "source": [
    "## Holt-Winter"
   ]
  },
  {
   "cell_type": "code",
   "execution_count": 27,
   "id": "948a1770",
   "metadata": {},
   "outputs": [
    {
     "data": {
      "text/plain": [
       "SVR(C=0.5)"
      ]
     },
     "execution_count": 27,
     "metadata": {},
     "output_type": "execute_result"
    }
   ],
   "source": [
    "hw_SVR = SVR(kernel = 'rbf', C= 0.5, gamma= 'scale')\n",
    "hw_SVR.fit(df_train, holt_winter.resid)"
   ]
  },
  {
   "cell_type": "code",
   "execution_count": 28,
   "id": "eaed70fd",
   "metadata": {},
   "outputs": [
    {
     "data": {
      "text/plain": [
       "[<matplotlib.lines.Line2D at 0x1e3aa41b3a0>]"
      ]
     },
     "execution_count": 28,
     "metadata": {},
     "output_type": "execute_result"
    },
    {
     "data": {
      "image/png": "[encoded data removed]",
      "text/plain": [
       "<Figure size 432x288 with 1 Axes>"
      ]
     },
     "metadata": {
      "needs_background": "light"
     },
     "output_type": "display_data"
    }
   ],
   "source": [
    "hw_SVR_fc = hw_SVR.predict(np.array(df_test))\n",
    "# print(arimia_SVR)\n",
    "plt.plot(hw_SVR_fc+hw)\n",
    "plt.plot(test)"
   ]
  },
  {
   "cell_type": "markdown",
   "id": "775da94e",
   "metadata": {},
   "source": [
    "## SMV"
   ]
  },
  {
   "cell_type": "code",
   "execution_count": null,
   "id": "6bc3d6de",
   "metadata": {},
   "outputs": [],
   "source": []
  }
 ],
 "metadata": {
  "kernelspec": {
   "display_name": "Python 3 (ipykernel)",
   "language": "python",
   "name": "python3"
  },
  "language_info": {
   "codemirror_mode": {
    "name": "ipython",
    "version": 3
   },
   "file_extension": ".py",
   "mimetype": "text/x-python",
   "name": "python",
   "nbconvert_exporter": "python",
   "pygments_lexer": "ipython3",
   "version": "3.9.7"
  }
 },
 "nbformat": 4,
 "nbformat_minor": 5
}
